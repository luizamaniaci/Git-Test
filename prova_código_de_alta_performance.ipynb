{
  "nbformat": 4,
  "nbformat_minor": 0,
  "metadata": {
    "colab": {
      "provenance": [],
      "authorship_tag": "ABX9TyO0PgtIKW1/lbHGQ1yk7K7B",
      "include_colab_link": true
    },
    "kernelspec": {
      "name": "python3",
      "display_name": "Python 3"
    },
    "language_info": {
      "name": "python"
    }
  },
  "cells": [
    {
      "cell_type": "markdown",
      "metadata": {
        "id": "view-in-github",
        "colab_type": "text"
      },
      "source": [
        "<a href=\"https://colab.research.google.com/github/luizamaniaci/Git-Test/blob/main/prova_c%C3%B3digo_de_alta_performance.ipynb\" target=\"_parent\"><img src=\"https://colab.research.google.com/assets/colab-badge.svg\" alt=\"Open In Colab\"/></a>"
      ]
    },
    {
      "cell_type": "markdown",
      "source": [
        "# **Exercício 1**"
      ],
      "metadata": {
        "id": "XDPD5xc59D_q"
      }
    },
    {
      "cell_type": "code",
      "execution_count": 2,
      "metadata": {
        "colab": {
          "base_uri": "https://localhost:8080/"
        },
        "id": "EBGhGI-W55S7",
        "outputId": "2dec4825-f446-4aed-9d91-382857d109df"
      },
      "outputs": [
        {
          "output_type": "stream",
          "name": "stdout",
          "text": [
            "Digite um número inteiro (999 para parar): 5\n",
            "Digite um número inteiro (999 para parar): 6\n",
            "Digite um número inteiro (999 para parar): 999\n",
            "Foram digitados 2 números.\n",
            "A somatória dos números é: 11.\n"
          ]
        }
      ],
      "source": [
        "numbers = []\n",
        "number = int(input(\"Digite um número inteiro (999 para parar): \"))\n",
        "\n",
        "while number != 999:\n",
        "    numbers.append(number)\n",
        "    number = int(input(\"Digite um número inteiro (999 para parar): \"))\n",
        "\n",
        "number_quantity = len(numbers)\n",
        "sum = sum(numbers)\n",
        "\n",
        "print(f\"Foram digitados {number_quantity} números.\")\n",
        "print(f\"A somatória dos números é: {sum}.\")\n"
      ]
    },
    {
      "cell_type": "markdown",
      "source": [
        "# **Exercício 2**"
      ],
      "metadata": {
        "id": "cgurg6-G9XE5"
      }
    },
    {
      "cell_type": "code",
      "source": [
        "while True:\n",
        "    number = int(input(\"Digite um número (negativo para sair): \"))\n",
        "\n",
        "    if number < 0:\n",
        "        print(\"Programa encerrado.\")\n",
        "        break\n",
        "\n",
        "    print(\"Tabuada de\", number, \":\")\n",
        "\n",
        "    for i in range(1, 11):\n",
        "        result = number * i\n",
        "        print(number, \"x\", i, \"=\", result)\n",
        "\n",
        "    print()\n"
      ],
      "metadata": {
        "colab": {
          "base_uri": "https://localhost:8080/"
        },
        "id": "NxePcqhyLLk2",
        "outputId": "c2d5d793-efb9-401b-b816-48afcae9e681"
      },
      "execution_count": 3,
      "outputs": [
        {
          "output_type": "stream",
          "name": "stdout",
          "text": [
            "Digite um número (negativo para sair): 4\n",
            "Tabuada de 4 :\n",
            "4 x 1 = 4\n",
            "4 x 2 = 8\n",
            "4 x 3 = 12\n",
            "4 x 4 = 16\n",
            "4 x 5 = 20\n",
            "4 x 6 = 24\n",
            "4 x 7 = 28\n",
            "4 x 8 = 32\n",
            "4 x 9 = 36\n",
            "4 x 10 = 40\n",
            "\n",
            "Digite um número (negativo para sair): 2\n",
            "Tabuada de 2 :\n",
            "2 x 1 = 2\n",
            "2 x 2 = 4\n",
            "2 x 3 = 6\n",
            "2 x 4 = 8\n",
            "2 x 5 = 10\n",
            "2 x 6 = 12\n",
            "2 x 7 = 14\n",
            "2 x 8 = 16\n",
            "2 x 9 = 18\n",
            "2 x 10 = 20\n",
            "\n",
            "Digite um número (negativo para sair): -1\n",
            "Programa encerrado.\n"
          ]
        }
      ]
    },
    {
      "cell_type": "markdown",
      "source": [
        "# **Exercício 3**"
      ],
      "metadata": {
        "id": "zjsoB9HR9iSB"
      }
    },
    {
      "cell_type": "code",
      "source": [
        "over_eighteen = 0\n",
        "registered_men = 0\n",
        "women_under_twenty = 0\n",
        "\n",
        "while True:\n",
        "    age = int(input(\"Digite a idade da pessoa: \"))\n",
        "    sexo = input(\"Digite o sexo da pessoa (M/F): \").upper()\n",
        "\n",
        "    if age > 18:\n",
        "        over_eighteen += 1\n",
        "\n",
        "    if sexo == \"M\":\n",
        "        registered_men += 1\n",
        "\n",
        "    if sexo == \"F\" and age < 20:\n",
        "        women_under_twenty += 1\n",
        "\n",
        "    continuar = input(\"Deseja continuar cadastrando pessoas? (S/N): \").upper()\n",
        "\n",
        "    if continuar != \"S\":\n",
        "        break\n",
        "\n",
        "print(\"Quantidade de pessoas com mais de 18 anos:\", over_eighteen)\n",
        "print(\"Quantidade de homens cadastrados:\", registered_men)\n",
        "print(\"Quantidade de mulheres com menos de 20 anos:\", women_under_twenty)\n"
      ],
      "metadata": {
        "colab": {
          "base_uri": "https://localhost:8080/"
        },
        "id": "T6gpHYLmMXNF",
        "outputId": "54cb7598-0886-40a6-d123-f68e8f6299cb"
      },
      "execution_count": 4,
      "outputs": [
        {
          "output_type": "stream",
          "name": "stdout",
          "text": [
            "Digite a idade da pessoa: 19\n",
            "Digite o sexo da pessoa (M/F): F\n",
            "Deseja continuar cadastrando pessoas? (S/N): S\n",
            "Digite a idade da pessoa: 18\n",
            "Digite o sexo da pessoa (M/F): M\n",
            "Deseja continuar cadastrando pessoas? (S/N): N\n",
            "Quantidade de pessoas com mais de 18 anos: 1\n",
            "Quantidade de homens cadastrados: 1\n",
            "Quantidade de mulheres com menos de 20 anos: 1\n"
          ]
        }
      ]
    },
    {
      "cell_type": "markdown",
      "source": [
        "# **Exercício 4**"
      ],
      "metadata": {
        "id": "X5NDiSDM9sCI"
      }
    },
    {
      "cell_type": "code",
      "source": [
        "total_amount = 0\n",
        "over_onethousand_products = 0\n",
        "cheapest_product = None\n",
        "cheapest_product_price = float('inf')\n",
        "\n",
        "while True:\n",
        "    product_name = input(\"Digite o nome do produto: \")\n",
        "    product_price = input(\"Digite o preço do produto: \")\n",
        "    product_price_tofloat = float(product_price)\n",
        "\n",
        "    total_amount += product_price_tofloat\n",
        "\n",
        "    if product_price_tofloat > 1000:\n",
        "        over_onethousand_products += 1\n",
        "\n",
        "    if product_price_tofloat < cheapest_product_price:\n",
        "        cheapest_product = product_name\n",
        "        cheapest_product_price = product_price_tofloat\n",
        "\n",
        "    continuar = input(\"Deseja continuar cadastrando produtos? (S/N): \").upper()\n",
        "\n",
        "    if continuar != \"S\":\n",
        "        break\n",
        "\n",
        "print(\"Total gasto na compra: R$\", total_amount)\n",
        "print(\"Quantidade de produtos com preço superior a R$ 1000:\", over_onethousand_products)\n",
        "print(\"Nome do produto mais barato:\", cheapest_product)\n"
      ],
      "metadata": {
        "colab": {
          "base_uri": "https://localhost:8080/"
        },
        "id": "jZq09g2nM8gl",
        "outputId": "f5df9e1e-dc1b-4048-fe84-76dbe6ead917"
      },
      "execution_count": 5,
      "outputs": [
        {
          "output_type": "stream",
          "name": "stdout",
          "text": [
            "Digite o nome do produto: água\n",
            "Digite o preço do produto: 6.40\n",
            "Deseja continuar cadastrando produtos? (S/N): S\n",
            "Digite o nome do produto: café\n",
            "Digite o preço do produto: 13.20\n",
            "Deseja continuar cadastrando produtos? (S/N): N\n",
            "Total gasto na compra: R$ 19.6\n",
            "Quantidade de produtos com preço superior a R$ 1000: 0\n",
            "Nome do produto mais barato: água\n"
          ]
        }
      ]
    },
    {
      "cell_type": "markdown",
      "source": [
        "# **Exercício 5**"
      ],
      "metadata": {
        "id": "et1WB6_X91VY"
      }
    },
    {
      "cell_type": "code",
      "source": [
        "values = tuple(int(input(\"Digite um valor: \")) for _ in range(4))\n",
        "\n",
        "# Contagem de vezes que o valor 9 aparece\n",
        "value_counter_tonine = values.count(9)\n",
        "\n",
        "# Posição do primeiro valor 3\n",
        "position_three = values.index(3) if 3 in values else None\n",
        "\n",
        "# Números pares\n",
        "even_numbers = tuple(x for x in values if x % 2 == 0)\n",
        "\n",
        "print(\"Quantidade de vezes que o valor 9 apareceu:\", value_counter_tonine)\n",
        "\n",
        "if position_three is not None:\n",
        "    print(\"Posição do primeiro valor 3:\", position_three)\n",
        "else:\n",
        "    print(\"O valor 3 não foi digitado.\")\n",
        "\n",
        "print(\"Números pares:\", even_numbers)\n"
      ],
      "metadata": {
        "colab": {
          "base_uri": "https://localhost:8080/"
        },
        "id": "qGD2q93wPfuZ",
        "outputId": "7fc01c61-6af8-4431-a22b-2556afc74b69"
      },
      "execution_count": 6,
      "outputs": [
        {
          "output_type": "stream",
          "name": "stdout",
          "text": [
            "Digite um valor: 2\n",
            "Digite um valor: 3\n",
            "Digite um valor: 6\n",
            "Digite um valor: 1\n",
            "Quantidade de vezes que o valor 9 apareceu: 0\n",
            "Posição do primeiro valor 3: 1\n",
            "Números pares: (2, 6)\n"
          ]
        }
      ]
    },
    {
      "cell_type": "markdown",
      "source": [
        "# **Exercício 6**"
      ],
      "metadata": {
        "id": "fq5KUSLy-CiQ"
      }
    },
    {
      "cell_type": "code",
      "source": [
        "values = []\n",
        "\n",
        "for i in range(5):\n",
        "    value = int(input(\"Digite um valor: \"))\n",
        "    values.append(value)\n",
        "\n",
        "greatest_value = values[0]\n",
        "greatest_position = 0\n",
        "lowest_value = values[0]\n",
        "lowest_position = 0\n",
        "\n",
        "for i in range(1, 5):\n",
        "    if values[i] > greatest_value:\n",
        "        greatest_value = values[i]\n",
        "        greatest_position = i\n",
        "    if values[i] < lowest_value:\n",
        "        lowest_value = values[i]\n",
        "        lowest_position = i\n",
        "\n",
        "print(\"Maior valor digitado:\", greatest_value)\n",
        "print(\"Posição do maior valor:\", greatest_position)\n",
        "print(\"Menor valor digitado:\", lowest_value)\n",
        "print(\"Posição do menor valor:\", lowest_position)\n"
      ],
      "metadata": {
        "colab": {
          "base_uri": "https://localhost:8080/"
        },
        "id": "fwvPa-7HR2rs",
        "outputId": "074e9e59-28a6-4eeb-efe5-4aedcf05a95e"
      },
      "execution_count": 7,
      "outputs": [
        {
          "output_type": "stream",
          "name": "stdout",
          "text": [
            "Digite um valor: 1\n",
            "Digite um valor: 2\n",
            "Digite um valor: 4\n",
            "Digite um valor: 6\n",
            "Digite um valor: 10\n",
            "Maior valor digitado: 10\n",
            "Posição do maior valor: 4\n",
            "Menor valor digitado: 1\n",
            "Posição do menor valor: 0\n"
          ]
        }
      ]
    },
    {
      "cell_type": "markdown",
      "source": [
        "# **Exercício 7**"
      ],
      "metadata": {
        "id": "fHW5D5vi-LiY"
      }
    },
    {
      "cell_type": "code",
      "source": [
        "numbers = []\n",
        "\n",
        "while True:\n",
        "    number = int(input(\"Digite um número (digite 0 para parar): \"))\n",
        "    \n",
        "    if number == 0:\n",
        "        break\n",
        "\n",
        "    numbers.append(number)\n",
        "\n",
        "number_quantity = len(numbers)\n",
        "descending_numbers = sorted(numbers, reverse=True)\n",
        "value_five_inthelist = 5 in numbers\n",
        "\n",
        "print(\"Quantidade de números digitados:\", number_quantity)\n",
        "print(\"Lista de valores em ordem decrescente:\", descending_numbers)\n",
        "print(\"O valor 5 está presente na lista:\", value_five_inthelist)\n"
      ],
      "metadata": {
        "colab": {
          "base_uri": "https://localhost:8080/"
        },
        "id": "YTaWd5m7S-Mo",
        "outputId": "1f9615ba-c83c-4db5-9c27-63ec44b8a46e"
      },
      "execution_count": 8,
      "outputs": [
        {
          "output_type": "stream",
          "name": "stdout",
          "text": [
            "Digite um número (digite 0 para parar): 4\n",
            "Digite um número (digite 0 para parar): 1\n",
            "Digite um número (digite 0 para parar): 5\n",
            "Digite um número (digite 0 para parar): 5\n",
            "Digite um número (digite 0 para parar): 3\n",
            "Digite um número (digite 0 para parar): 2\n",
            "Digite um número (digite 0 para parar): 6\n",
            "Digite um número (digite 0 para parar): 5\n",
            "Digite um número (digite 0 para parar): 0\n",
            "Quantidade de números digitados: 8\n",
            "Lista de valores em ordem decrescente: [6, 5, 5, 5, 4, 3, 2, 1]\n",
            "O valor 5 está presente na lista: True\n"
          ]
        }
      ]
    }
  ]
}